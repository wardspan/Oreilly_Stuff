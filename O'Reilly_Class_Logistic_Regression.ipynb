{
  "nbformat": 4,
  "nbformat_minor": 0,
  "metadata": {
    "colab": {
      "name": "O'Reilly Class: Logistic Regression",
      "provenance": [],
      "include_colab_link": true
    },
    "kernelspec": {
      "name": "python3",
      "display_name": "Python 3"
    }
  },
  "cells": [
    {
      "cell_type": "markdown",
      "metadata": {
        "id": "view-in-github",
        "colab_type": "text"
      },
      "source": [
        "<a href=\"https://colab.research.google.com/github/wardspan/Oreilly_Stuff/blob/master/O'Reilly_Class_Logistic_Regression.ipynb\" target=\"_parent\"><img src=\"https://colab.research.google.com/assets/colab-badge.svg\" alt=\"Open In Colab\"/></a>"
      ]
    },
    {
      "cell_type": "code",
      "metadata": {
        "id": "N905qjQAOoTz",
        "colab_type": "code",
        "outputId": "a8ad4115-69ca-4cc9-f98d-f36d13236893",
        "colab": {
          "base_uri": "https://localhost:8080/",
          "height": 51
        }
      },
      "source": [
        "#Import Python Libraries\n",
        "import numpy as np\n",
        "import pandas as pd\n",
        "from datetime import datetime\n",
        "\n",
        "import pandas_datareader.data as pdr\n",
        "\n",
        "import matplotlib.pyplot as plt\n",
        "plt.style.use('seaborn')"
      ],
      "execution_count": 0,
      "outputs": [
        {
          "output_type": "stream",
          "text": [
            "/usr/local/lib/python3.6/dist-packages/pandas_datareader/compat/__init__.py:7: FutureWarning: pandas.util.testing is deprecated. Use the functions in the public API at pandas.testing instead.\n",
            "  from pandas.util.testing import assert_frame_equal\n"
          ],
          "name": "stderr"
        }
      ]
    },
    {
      "cell_type": "code",
      "metadata": {
        "id": "HdIgQ9GcJuqc",
        "colab_type": "code",
        "colab": {}
      },
      "source": [
        "#Import data\n",
        "start = datetime(1982, 1, 1)\n",
        "end = datetime(2020, 2, 29)\n",
        "\n",
        "recession = pdr.DataReader('USREC', 'fred', start, end) #NBER business cycle classification\n",
        "yield_curve = pdr.DataReader('T10Y3MM', 'fred', start, end) #Difference between the 3 month and 10 year treasury yields\n",
        "unemployment = pdr.DataReader('UNRATE', 'fred', start, end) #Unemployment rate\n",
        "industrial_capacity = pdr.DataReader('TCU', 'fred', start, end) #Total industrial capacity utilization"
      ],
      "execution_count": 0,
      "outputs": []
    },
    {
      "cell_type": "code",
      "metadata": {
        "id": "BpuwMh3PWXWe",
        "colab_type": "code",
        "outputId": "907556f2-2e96-4ecb-acd6-0b3b999da384",
        "colab": {
          "base_uri": "https://localhost:8080/",
          "height": 235
        }
      },
      "source": [
        "#Create target dataframe\n",
        "target = recession[1:]\n",
        "target.tail()"
      ],
      "execution_count": 0,
      "outputs": [
        {
          "output_type": "execute_result",
          "data": {
            "text/html": [
              "<div>\n",
              "<style scoped>\n",
              "    .dataframe tbody tr th:only-of-type {\n",
              "        vertical-align: middle;\n",
              "    }\n",
              "\n",
              "    .dataframe tbody tr th {\n",
              "        vertical-align: top;\n",
              "    }\n",
              "\n",
              "    .dataframe thead th {\n",
              "        text-align: right;\n",
              "    }\n",
              "</style>\n",
              "<table border=\"1\" class=\"dataframe\">\n",
              "  <thead>\n",
              "    <tr style=\"text-align: right;\">\n",
              "      <th></th>\n",
              "      <th>USREC</th>\n",
              "    </tr>\n",
              "    <tr>\n",
              "      <th>DATE</th>\n",
              "      <th></th>\n",
              "    </tr>\n",
              "  </thead>\n",
              "  <tbody>\n",
              "    <tr>\n",
              "      <th>2019-10-01</th>\n",
              "      <td>0</td>\n",
              "    </tr>\n",
              "    <tr>\n",
              "      <th>2019-11-01</th>\n",
              "      <td>0</td>\n",
              "    </tr>\n",
              "    <tr>\n",
              "      <th>2019-12-01</th>\n",
              "      <td>0</td>\n",
              "    </tr>\n",
              "    <tr>\n",
              "      <th>2020-01-01</th>\n",
              "      <td>0</td>\n",
              "    </tr>\n",
              "    <tr>\n",
              "      <th>2020-02-01</th>\n",
              "      <td>0</td>\n",
              "    </tr>\n",
              "  </tbody>\n",
              "</table>\n",
              "</div>"
            ],
            "text/plain": [
              "            USREC\n",
              "DATE             \n",
              "2019-10-01      0\n",
              "2019-11-01      0\n",
              "2019-12-01      0\n",
              "2020-01-01      0\n",
              "2020-02-01      0"
            ]
          },
          "metadata": {
            "tags": []
          },
          "execution_count": 19
        }
      ]
    },
    {
      "cell_type": "code",
      "metadata": {
        "id": "aPA4TpQsXR0t",
        "colab_type": "code",
        "outputId": "67562b0e-6728-4fd9-d66d-6581d3bf59bf",
        "colab": {
          "base_uri": "https://localhost:8080/",
          "height": 235
        }
      },
      "source": [
        "#Create features dataframe\n",
        "features = pd.DataFrame()\n",
        "features['curve'] = yield_curve['T10Y3MM'].diff()\n",
        "features['unemployment'] = unemployment['UNRATE'].diff()\n",
        "features['industrial'] = industrial_capacity['TCU'].diff()\n",
        "features = features.dropna()\n",
        "features.tail()"
      ],
      "execution_count": 0,
      "outputs": [
        {
          "output_type": "execute_result",
          "data": {
            "text/html": [
              "<div>\n",
              "<style scoped>\n",
              "    .dataframe tbody tr th:only-of-type {\n",
              "        vertical-align: middle;\n",
              "    }\n",
              "\n",
              "    .dataframe tbody tr th {\n",
              "        vertical-align: top;\n",
              "    }\n",
              "\n",
              "    .dataframe thead th {\n",
              "        text-align: right;\n",
              "    }\n",
              "</style>\n",
              "<table border=\"1\" class=\"dataframe\">\n",
              "  <thead>\n",
              "    <tr style=\"text-align: right;\">\n",
              "      <th></th>\n",
              "      <th>curve</th>\n",
              "      <th>unemployment</th>\n",
              "      <th>industrial</th>\n",
              "    </tr>\n",
              "    <tr>\n",
              "      <th>DATE</th>\n",
              "      <th></th>\n",
              "      <th></th>\n",
              "      <th></th>\n",
              "    </tr>\n",
              "  </thead>\n",
              "  <tbody>\n",
              "    <tr>\n",
              "      <th>2019-10-01</th>\n",
              "      <td>0.26</td>\n",
              "      <td>0.1</td>\n",
              "      <td>-0.4455</td>\n",
              "    </tr>\n",
              "    <tr>\n",
              "      <th>2019-11-01</th>\n",
              "      <td>0.21</td>\n",
              "      <td>-0.1</td>\n",
              "      <td>0.5929</td>\n",
              "    </tr>\n",
              "    <tr>\n",
              "      <th>2019-12-01</th>\n",
              "      <td>0.05</td>\n",
              "      <td>0.0</td>\n",
              "      <td>-0.4387</td>\n",
              "    </tr>\n",
              "    <tr>\n",
              "      <th>2020-01-01</th>\n",
              "      <td>-0.08</td>\n",
              "      <td>0.1</td>\n",
              "      <td>-0.4437</td>\n",
              "    </tr>\n",
              "    <tr>\n",
              "      <th>2020-02-01</th>\n",
              "      <td>-0.25</td>\n",
              "      <td>-0.1</td>\n",
              "      <td>0.2603</td>\n",
              "    </tr>\n",
              "  </tbody>\n",
              "</table>\n",
              "</div>"
            ],
            "text/plain": [
              "            curve  unemployment  industrial\n",
              "DATE                                       \n",
              "2019-10-01   0.26           0.1     -0.4455\n",
              "2019-11-01   0.21          -0.1      0.5929\n",
              "2019-12-01   0.05           0.0     -0.4387\n",
              "2020-01-01  -0.08           0.1     -0.4437\n",
              "2020-02-01  -0.25          -0.1      0.2603"
            ]
          },
          "metadata": {
            "tags": []
          },
          "execution_count": 20
        }
      ]
    },
    {
      "cell_type": "code",
      "metadata": {
        "id": "MEWlNhcgcz7Y",
        "colab_type": "code",
        "outputId": "29fa2236-6760-4e7d-d0da-de6e96d0746f",
        "colab": {
          "base_uri": "https://localhost:8080/",
          "height": 34
        }
      },
      "source": [
        "#Create logistic regression model\n",
        "from sklearn.linear_model import LogisticRegression\n",
        "from sklearn.preprocessing import StandardScaler\n",
        "\n",
        "target = np.ravel(target)\n",
        "\n",
        "scaler = StandardScaler()\n",
        "features_standardized = scaler.fit_transform(features)\n",
        "\n",
        "classifier = LogisticRegression(random_state = 0)\n",
        "model = classifier.fit(features_standardized, target)\n",
        "model.coef_"
      ],
      "execution_count": 0,
      "outputs": [
        {
          "output_type": "execute_result",
          "data": {
            "text/plain": [
              "array([[ 0.60074403,  1.56151543, -1.12040406]])"
            ]
          },
          "metadata": {
            "tags": []
          },
          "execution_count": 21
        }
      ]
    },
    {
      "cell_type": "code",
      "metadata": {
        "id": "BU0G7_MSjAXS",
        "colab_type": "code",
        "outputId": "51ba9a4b-b1d5-4731-cb37-4baf09643501",
        "colab": {
          "base_uri": "https://localhost:8080/",
          "height": 34
        }
      },
      "source": [
        "#Use new data to predict recession\n",
        "new = [[0.61, 0.9, -4.2351]]\n",
        "model.predict(new)"
      ],
      "execution_count": 0,
      "outputs": [
        {
          "output_type": "execute_result",
          "data": {
            "text/plain": [
              "array([1])"
            ]
          },
          "metadata": {
            "tags": []
          },
          "execution_count": 22
        }
      ]
    },
    {
      "cell_type": "code",
      "metadata": {
        "id": "clSe6iEijbKt",
        "colab_type": "code",
        "outputId": "7fa106e5-4585-48f3-c00c-063166bcf32e",
        "colab": {
          "base_uri": "https://localhost:8080/",
          "height": 34
        }
      },
      "source": [
        "#Quantify probability of recession\n",
        "model.predict_proba(new)\n"
      ],
      "execution_count": 0,
      "outputs": [
        {
          "output_type": "execute_result",
          "data": {
            "text/plain": [
              "array([[0.06288945, 0.93711055]])"
            ]
          },
          "metadata": {
            "tags": []
          },
          "execution_count": 23
        }
      ]
    },
    {
      "cell_type": "code",
      "metadata": {
        "id": "0fqgFXFcPdPN",
        "colab_type": "code",
        "outputId": "dbd3366b-aaf8-433d-b32b-47d1b571f3a5",
        "colab": {
          "base_uri": "https://localhost:8080/",
          "height": 34
        }
      },
      "source": [
        "#Regularize logistic regression model with C hyperparameter\n",
        "regularized_classifier = LogisticRegression(penalty='l2', C=0.001, random_state = 0)\n",
        "regularized_model = classifier.fit(features_standardized, target)\n",
        "regularized_model.coef_"
      ],
      "execution_count": 0,
      "outputs": [
        {
          "output_type": "execute_result",
          "data": {
            "text/plain": [
              "array([[ 0.60074403,  1.56151543, -1.12040406]])"
            ]
          },
          "metadata": {
            "tags": []
          },
          "execution_count": 49
        }
      ]
    },
    {
      "cell_type": "markdown",
      "metadata": {
        "colab_type": "text",
        "id": "-zXn9X3nmouQ"
      },
      "source": [
        "# Model Evaluation"
      ]
    },
    {
      "cell_type": "code",
      "metadata": {
        "id": "jHNQtKXcYS4c",
        "colab_type": "code",
        "outputId": "554fee9b-05c4-4122-f5a1-847bc8d50a3a",
        "colab": {
          "base_uri": "https://localhost:8080/",
          "height": 51
        }
      },
      "source": [
        "#Split dataset into train and test subsets. Test size is 25% of the total dataset\n",
        "from sklearn.model_selection import train_test_split\n",
        "\n",
        "features_train, features_test, target_train, target_test = train_test_split(features, target, test_size = 0.25, random_state=0)\n",
        "classifier.fit(features_train, target_train)\n",
        "print(\"Training score:\", classifier.score(features_train, target_train))\n",
        "print(\"Testing score:\", classifier.score(features_test, target_test))"
      ],
      "execution_count": 0,
      "outputs": [
        {
          "output_type": "stream",
          "text": [
            "Training score: 0.9181286549707602\n",
            "Testing score: 0.9304347826086956\n"
          ],
          "name": "stdout"
        }
      ]
    },
    {
      "cell_type": "code",
      "metadata": {
        "id": "VyOkIdYPZdsp",
        "colab_type": "code",
        "outputId": "1ff6cc40-968f-4f5b-a5e4-de2bd2db1297",
        "colab": {
          "base_uri": "https://localhost:8080/",
          "height": 34
        }
      },
      "source": [
        "#Use K-fold cross validation (default folds = 5, default scoring metric = accuracy) \n",
        "from sklearn.model_selection import cross_val_score\n",
        "\n",
        "cross_val_score(classifier, features_standardized, target)"
      ],
      "execution_count": 0,
      "outputs": [
        {
          "output_type": "execute_result",
          "data": {
            "text/plain": [
              "array([0.93478261, 0.88043478, 0.91208791, 0.91208791, 0.98901099])"
            ]
          },
          "metadata": {
            "tags": []
          },
          "execution_count": 28
        }
      ]
    },
    {
      "cell_type": "code",
      "metadata": {
        "id": "rqSRYkJeao8R",
        "colab_type": "code",
        "outputId": "6dd1f8d4-27e6-40f4-e62e-b88ae4199690",
        "colab": {
          "base_uri": "https://localhost:8080/",
          "height": 34
        }
      },
      "source": [
        "#Use accuracy = (TP + TN)/(TP+TN+FP+FN) as the evaluation metric\n",
        "cross_val_score(classifier, features_standardized, target, scoring = \"accuracy\")"
      ],
      "execution_count": 0,
      "outputs": [
        {
          "output_type": "execute_result",
          "data": {
            "text/plain": [
              "array([0.93478261, 0.88043478, 0.91208791, 0.91208791, 0.98901099])"
            ]
          },
          "metadata": {
            "tags": []
          },
          "execution_count": 29
        }
      ]
    },
    {
      "cell_type": "code",
      "metadata": {
        "id": "8QCMv6Mva3VN",
        "colab_type": "code",
        "outputId": "5e713d0b-5300-42fa-eb4c-3d9e8e9bb580",
        "colab": {
          "base_uri": "https://localhost:8080/",
          "height": 34
        }
      },
      "source": [
        "#Use precision = TP/(TP+FP) as the evaluation metric\n",
        "cross_val_score(classifier, features_standardized, target, scoring = \"precision\")"
      ],
      "execution_count": 0,
      "outputs": [
        {
          "output_type": "execute_result",
          "data": {
            "text/plain": [
              "array([0.8       , 0.25      , 0.66666667, 0.6       , 1.        ])"
            ]
          },
          "metadata": {
            "tags": []
          },
          "execution_count": 30
        }
      ]
    },
    {
      "cell_type": "code",
      "metadata": {
        "id": "51id66uabKy4",
        "colab_type": "code",
        "outputId": "f44f37c3-33e0-44ad-c51e-ea48117f3492",
        "colab": {
          "base_uri": "https://localhost:8080/",
          "height": 34
        }
      },
      "source": [
        "#Use Sensitivity = TP/(TP + FN) as the evaluation metric\n",
        "cross_val_score(classifier, features_standardized, target, scoring = \"recall\")"
      ],
      "execution_count": 0,
      "outputs": [
        {
          "output_type": "execute_result",
          "data": {
            "text/plain": [
              "array([0.44444444, 0.11111111, 0.22222222, 0.33333333, 0.875     ])"
            ]
          },
          "metadata": {
            "tags": []
          },
          "execution_count": 31
        }
      ]
    },
    {
      "cell_type": "code",
      "metadata": {
        "id": "AsbeMwvrbPha",
        "colab_type": "code",
        "outputId": "c7acb703-6d65-40de-b9b2-752ad00024a3",
        "colab": {
          "base_uri": "https://localhost:8080/",
          "height": 34
        }
      },
      "source": [
        "#Use F measure = 2*(precision*recall/(precision+recall)) as the evaluation metric\n",
        "cross_val_score(classifier, features_standardized, target, scoring = \"f1\")"
      ],
      "execution_count": 0,
      "outputs": [
        {
          "output_type": "execute_result",
          "data": {
            "text/plain": [
              "array([0.57142857, 0.15384615, 0.33333333, 0.42857143, 0.93333333])"
            ]
          },
          "metadata": {
            "tags": []
          },
          "execution_count": 32
        }
      ]
    }
  ]
}