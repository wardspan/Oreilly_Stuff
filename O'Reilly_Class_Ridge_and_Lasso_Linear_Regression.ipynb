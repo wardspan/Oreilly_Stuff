{
  "nbformat": 4,
  "nbformat_minor": 0,
  "metadata": {
    "colab": {
      "name": "O'Reilly Class- Ridge and Lasso Linear Regression",
      "provenance": [],
      "include_colab_link": true
    },
    "kernelspec": {
      "name": "python3",
      "display_name": "Python 3"
    }
  },
  "cells": [
    {
      "cell_type": "markdown",
      "metadata": {
        "id": "view-in-github",
        "colab_type": "text"
      },
      "source": [
        "<a href=\"https://colab.research.google.com/github/wardspan/Oreilly_Stuff/blob/master/O'Reilly_Class_Ridge_and_Lasso_Linear_Regression.ipynb\" target=\"_parent\"><img src=\"https://colab.research.google.com/assets/colab-badge.svg\" alt=\"Open In Colab\"/></a>"
      ]
    },
    {
      "cell_type": "code",
      "metadata": {
        "id": "pxgRHy12PJfK",
        "colab_type": "code",
        "colab": {}
      },
      "source": [
        "#Import Python Libraries\n",
        "import numpy as np\n",
        "import pandas as pd\n",
        "from datetime import datetime\n",
        "\n",
        "import pandas_datareader.data as pdr\n",
        "import fix_yahoo_finance as yf\n",
        "yf.pdr_override()\n",
        "\n",
        "import matplotlib.pyplot as plt\n",
        "plt.style.use('seaborn')"
      ],
      "execution_count": 0,
      "outputs": []
    },
    {
      "cell_type": "code",
      "metadata": {
        "id": "eGcDaP4vQjuX",
        "colab_type": "code",
        "colab": {}
      },
      "source": [
        "#Import data\n",
        "start = datetime(2017, 3, 10)\n",
        "end = datetime(2020, 5, 13)\n",
        "\n",
        "stock = pdr.get_data_yahoo('AAPL', start, end)\n",
        "market = pdr.get_data_yahoo('SPY', start, end) #S&P 500 index\n",
        "vix = pdr.get_data_yahoo('^VIX', start, end)   #Volatility index\n",
        "dxy = pdr.get_data_yahoo('UUP', start, end)    #Dollar index\n",
        "junk = pdr.get_data_yahoo('JNK', start, end)   #Junk bond index"
      ],
      "execution_count": 0,
      "outputs": []
    },
    {
      "cell_type": "code",
      "metadata": {
        "id": "EX2JBnMfXHTi",
        "colab_type": "code",
        "outputId": "068d02eb-8781-43d1-9e53-857135461671",
        "colab": {
          "base_uri": "https://localhost:8080/",
          "height": 235
        }
      },
      "source": [
        "#Create target dataframe\n",
        "target = pd.DataFrame()\n",
        "#Use adjusted closing prices instead of closing prices to adjust for corporate actions such as dividends, splits and mergers\n",
        "target['return'] = stock['Adj Close'].pct_change(1)*100\n",
        "target = target.dropna()\n",
        "target.head()"
      ],
      "execution_count": 0,
      "outputs": [
        {
          "output_type": "execute_result",
          "data": {
            "text/html": [
              "<div>\n",
              "<style scoped>\n",
              "    .dataframe tbody tr th:only-of-type {\n",
              "        vertical-align: middle;\n",
              "    }\n",
              "\n",
              "    .dataframe tbody tr th {\n",
              "        vertical-align: top;\n",
              "    }\n",
              "\n",
              "    .dataframe thead th {\n",
              "        text-align: right;\n",
              "    }\n",
              "</style>\n",
              "<table border=\"1\" class=\"dataframe\">\n",
              "  <thead>\n",
              "    <tr style=\"text-align: right;\">\n",
              "      <th></th>\n",
              "      <th>return</th>\n",
              "    </tr>\n",
              "    <tr>\n",
              "      <th>Date</th>\n",
              "      <th></th>\n",
              "    </tr>\n",
              "  </thead>\n",
              "  <tbody>\n",
              "    <tr>\n",
              "      <th>2017-03-13</th>\n",
              "      <td>0.043105</td>\n",
              "    </tr>\n",
              "    <tr>\n",
              "      <th>2017-03-14</th>\n",
              "      <td>-0.150850</td>\n",
              "    </tr>\n",
              "    <tr>\n",
              "      <th>2017-03-15</th>\n",
              "      <td>1.057649</td>\n",
              "    </tr>\n",
              "    <tr>\n",
              "      <th>2017-03-16</th>\n",
              "      <td>0.163723</td>\n",
              "    </tr>\n",
              "    <tr>\n",
              "      <th>2017-03-17</th>\n",
              "      <td>-0.497511</td>\n",
              "    </tr>\n",
              "  </tbody>\n",
              "</table>\n",
              "</div>"
            ],
            "text/plain": [
              "              return\n",
              "Date                \n",
              "2017-03-13  0.043105\n",
              "2017-03-14 -0.150850\n",
              "2017-03-15  1.057649\n",
              "2017-03-16  0.163723\n",
              "2017-03-17 -0.497511"
            ]
          },
          "metadata": {
            "tags": []
          },
          "execution_count": 4
        }
      ]
    },
    {
      "cell_type": "code",
      "metadata": {
        "id": "4PUC0AmibGxp",
        "colab_type": "code",
        "outputId": "422d8983-8c44-4430-d156-4d88c7672348",
        "colab": {
          "base_uri": "https://localhost:8080/",
          "height": 235
        }
      },
      "source": [
        "#Create features dataframe\n",
        "features = pd.DataFrame()\n",
        "features['market'] = market['Adj Close'].pct_change(1)*100\n",
        "#VIX is volatility index and is measured in percentage terms\n",
        "features['vix'] = vix['Adj Close'].diff()\n",
        "features['dxy'] = dxy['Adj Close'].pct_change(1)*100\n",
        "features['junk'] = junk['Adj Close'].pct_change(1)*100\n",
        "features = features.dropna()\n",
        "features.tail()"
      ],
      "execution_count": 0,
      "outputs": [
        {
          "output_type": "execute_result",
          "data": {
            "text/html": [
              "<div>\n",
              "<style scoped>\n",
              "    .dataframe tbody tr th:only-of-type {\n",
              "        vertical-align: middle;\n",
              "    }\n",
              "\n",
              "    .dataframe tbody tr th {\n",
              "        vertical-align: top;\n",
              "    }\n",
              "\n",
              "    .dataframe thead th {\n",
              "        text-align: right;\n",
              "    }\n",
              "</style>\n",
              "<table border=\"1\" class=\"dataframe\">\n",
              "  <thead>\n",
              "    <tr style=\"text-align: right;\">\n",
              "      <th></th>\n",
              "      <th>market</th>\n",
              "      <th>vix</th>\n",
              "      <th>dxy</th>\n",
              "      <th>junk</th>\n",
              "    </tr>\n",
              "    <tr>\n",
              "      <th>Date</th>\n",
              "      <th></th>\n",
              "      <th></th>\n",
              "      <th></th>\n",
              "      <th></th>\n",
              "    </tr>\n",
              "  </thead>\n",
              "  <tbody>\n",
              "    <tr>\n",
              "      <th>2020-05-06</th>\n",
              "      <td>-0.677872</td>\n",
              "      <td>0.509998</td>\n",
              "      <td>0.481664</td>\n",
              "      <td>-0.379218</td>\n",
              "    </tr>\n",
              "    <tr>\n",
              "      <th>2020-05-07</th>\n",
              "      <td>1.206682</td>\n",
              "      <td>-2.679998</td>\n",
              "      <td>-0.294985</td>\n",
              "      <td>0.257202</td>\n",
              "    </tr>\n",
              "    <tr>\n",
              "      <th>2020-05-08</th>\n",
              "      <td>1.654619</td>\n",
              "      <td>-3.460001</td>\n",
              "      <td>-0.036982</td>\n",
              "      <td>0.974864</td>\n",
              "    </tr>\n",
              "    <tr>\n",
              "      <th>2020-05-11</th>\n",
              "      <td>0.020516</td>\n",
              "      <td>-0.410000</td>\n",
              "      <td>0.369952</td>\n",
              "      <td>-0.426828</td>\n",
              "    </tr>\n",
              "    <tr>\n",
              "      <th>2020-05-12</th>\n",
              "      <td>-1.993158</td>\n",
              "      <td>5.470001</td>\n",
              "      <td>-0.184294</td>\n",
              "      <td>-0.051034</td>\n",
              "    </tr>\n",
              "  </tbody>\n",
              "</table>\n",
              "</div>"
            ],
            "text/plain": [
              "              market       vix       dxy      junk\n",
              "Date                                              \n",
              "2020-05-06 -0.677872  0.509998  0.481664 -0.379218\n",
              "2020-05-07  1.206682 -2.679998 -0.294985  0.257202\n",
              "2020-05-08  1.654619 -3.460001 -0.036982  0.974864\n",
              "2020-05-11  0.020516 -0.410000  0.369952 -0.426828\n",
              "2020-05-12 -1.993158  5.470001 -0.184294 -0.051034"
            ]
          },
          "metadata": {
            "tags": []
          },
          "execution_count": 3
        }
      ]
    },
    {
      "cell_type": "code",
      "metadata": {
        "id": "LIjebWtKfOFF",
        "colab_type": "code",
        "outputId": "574c8f7a-a7c3-4581-8966-7fd92b85dd43",
        "colab": {
          "base_uri": "https://localhost:8080/",
          "height": 51
        }
      },
      "source": [
        "#Examine coefficients of Linear Regression\n",
        "from sklearn.linear_model import LinearRegression\n",
        "regression = LinearRegression()\n",
        "model = regression.fit(features, target)\n",
        "print(\"Bias:\", model.intercept_)\n",
        "print(\"Coefficients:\", model.coef_)"
      ],
      "execution_count": 0,
      "outputs": [
        {
          "output_type": "stream",
          "text": [
            "Bias: [0.07456363]\n",
            "Coefficients: [[ 1.31322259  0.00617595  0.14945602 -0.26799855]]\n"
          ],
          "name": "stdout"
        }
      ]
    },
    {
      "cell_type": "code",
      "metadata": {
        "id": "atoWcOZRoM59",
        "colab_type": "code",
        "outputId": "cb9f26e1-9d0a-4d79-c6db-8e0200ae7018",
        "colab": {
          "base_uri": "https://localhost:8080/",
          "height": 34
        }
      },
      "source": [
        "#Remove less informative features with Lasso Regression\n",
        "from sklearn.linear_model import Lasso\n",
        "from sklearn.preprocessing import StandardScaler\n",
        "\n",
        "scaler = StandardScaler()\n",
        "features_standardized = scaler.fit_transform(features)\n",
        "\n",
        "regression = Lasso (alpha=0.5)\n",
        "lasso_model = regression.fit(features_standardized, target)\n",
        "lasso_model.coef_"
      ],
      "execution_count": 0,
      "outputs": [
        {
          "output_type": "execute_result",
          "data": {
            "text/plain": [
              "array([ 1.08336998, -0.        ,  0.        ,  0.        ])"
            ]
          },
          "metadata": {
            "tags": []
          },
          "execution_count": 6
        }
      ]
    },
    {
      "cell_type": "code",
      "metadata": {
        "id": "TENwnv-bqCF7",
        "colab_type": "code",
        "outputId": "1e221db1-aaa5-438c-d65e-bc5d11b6ba19",
        "colab": {
          "base_uri": "https://localhost:8080/",
          "height": 34
        }
      },
      "source": [
        "#Reduce effects of all coefficients with Ridge Regression\n",
        "from sklearn.linear_model import Ridge\n",
        "from sklearn.preprocessing import StandardScaler\n",
        "\n",
        "scaler = StandardScaler()\n",
        "features_standardized = scaler.fit_transform(features)\n",
        "\n",
        "regression = Ridge (alpha=100)\n",
        "ridge_model = regression.fit(features_standardized, target)\n",
        "ridge_model.coef_"
      ],
      "execution_count": 0,
      "outputs": [
        {
          "output_type": "execute_result",
          "data": {
            "text/plain": [
              "array([[ 1.11058322, -0.26239932,  0.07086022,  0.14260018]])"
            ]
          },
          "metadata": {
            "tags": []
          },
          "execution_count": 7
        }
      ]
    },
    {
      "cell_type": "code",
      "metadata": {
        "id": "mxSW85He9kAd",
        "colab_type": "code",
        "colab": {}
      },
      "source": [
        ""
      ],
      "execution_count": 0,
      "outputs": []
    }
  ]
}